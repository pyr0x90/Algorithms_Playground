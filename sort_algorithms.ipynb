{
 "cells": [
  {
   "cell_type": "markdown",
   "metadata": {},
   "source": [
    "# Helpful Functions"
   ]
  },
  {
   "cell_type": "code",
   "execution_count": 17,
   "metadata": {},
   "outputs": [],
   "source": [
    "import numpy as np\n",
    "import random as rnd\n",
    "\n",
    "def swap(x,y):\n",
    "    (y,x) = (x,y)\n",
    "    return (y,x)"
   ]
  },
  {
   "cell_type": "markdown",
   "metadata": {},
   "source": [
    "# Complexity Visualization"
   ]
  },
  {
   "cell_type": "markdown",
   "metadata": {},
   "source": [
    "### Time Complexiity Visualization"
   ]
  },
  {
   "cell_type": "code",
   "execution_count": 4,
   "metadata": {},
   "outputs": [
    {
     "data": {
      "text/html": [
       "<div>\n",
       "<style scoped>\n",
       "    .dataframe tbody tr th:only-of-type {\n",
       "        vertical-align: middle;\n",
       "    }\n",
       "\n",
       "    .dataframe tbody tr th {\n",
       "        vertical-align: top;\n",
       "    }\n",
       "\n",
       "    .dataframe thead th {\n",
       "        text-align: right;\n",
       "    }\n",
       "</style>\n",
       "<table border=\"1\" class=\"dataframe\">\n",
       "  <thead>\n",
       "    <tr style=\"text-align: right;\">\n",
       "      <th></th>\n",
       "      <th>log n</th>\n",
       "      <th>sqrt n</th>\n",
       "      <th>n</th>\n",
       "      <th>n log n</th>\n",
       "      <th>n^2</th>\n",
       "      <th>n^3</th>\n",
       "      <th>2^n</th>\n",
       "      <th>n!</th>\n",
       "    </tr>\n",
       "  </thead>\n",
       "  <tbody>\n",
       "    <tr>\n",
       "      <th>second</th>\n",
       "      <td>inf</td>\n",
       "      <td>1000000000000</td>\n",
       "      <td>1000000</td>\n",
       "      <td>87847.539578</td>\n",
       "      <td>1000.0</td>\n",
       "      <td>100.0</td>\n",
       "      <td>19.931569</td>\n",
       "      <td>10</td>\n",
       "    </tr>\n",
       "    <tr>\n",
       "      <th>minute</th>\n",
       "      <td>inf</td>\n",
       "      <td>3600000000000000</td>\n",
       "      <td>60000000</td>\n",
       "      <td>3950157.929487</td>\n",
       "      <td>7745.966692</td>\n",
       "      <td>391.486764</td>\n",
       "      <td>25.838459</td>\n",
       "      <td>12</td>\n",
       "    </tr>\n",
       "    <tr>\n",
       "      <th>hour</th>\n",
       "      <td>inf</td>\n",
       "      <td>12960000000000000000</td>\n",
       "      <td>3600000000</td>\n",
       "      <td>188909174.864924</td>\n",
       "      <td>60000.0</td>\n",
       "      <td>1532.618865</td>\n",
       "      <td>31.74535</td>\n",
       "      <td>13</td>\n",
       "    </tr>\n",
       "    <tr>\n",
       "      <th>day</th>\n",
       "      <td>inf</td>\n",
       "      <td>7464960000000000000000</td>\n",
       "      <td>86400000000</td>\n",
       "      <td>3911758539.259124</td>\n",
       "      <td>293938.769134</td>\n",
       "      <td>4420.837798</td>\n",
       "      <td>36.330312</td>\n",
       "      <td>14</td>\n",
       "    </tr>\n",
       "    <tr>\n",
       "      <th>month</th>\n",
       "      <td>inf</td>\n",
       "      <td>6718464000000000000000000</td>\n",
       "      <td>2592000000000</td>\n",
       "      <td>102245912509.155792</td>\n",
       "      <td>1609968.9438</td>\n",
       "      <td>13736.570911</td>\n",
       "      <td>41.237203</td>\n",
       "      <td>16</td>\n",
       "    </tr>\n",
       "    <tr>\n",
       "      <th>year</th>\n",
       "      <td>inf</td>\n",
       "      <td>967458816000000000000000000</td>\n",
       "      <td>31104000000000</td>\n",
       "      <td>1121055084773.729492</td>\n",
       "      <td>5577096.018539</td>\n",
       "      <td>31448.896731</td>\n",
       "      <td>44.822165</td>\n",
       "      <td>17</td>\n",
       "    </tr>\n",
       "    <tr>\n",
       "      <th>century</th>\n",
       "      <td>inf</td>\n",
       "      <td>9674588160000000000000000000000</td>\n",
       "      <td>3110400000000000</td>\n",
       "      <td>96591730923945.734375</td>\n",
       "      <td>55770960.185387</td>\n",
       "      <td>145972.847894</td>\n",
       "      <td>51.466022</td>\n",
       "      <td>18</td>\n",
       "    </tr>\n",
       "  </tbody>\n",
       "</table>\n",
       "</div>"
      ],
      "text/plain": [
       "        log n                           sqrt n                 n  \\\n",
       "second    inf                    1000000000000           1000000   \n",
       "minute    inf                 3600000000000000          60000000   \n",
       "hour      inf             12960000000000000000        3600000000   \n",
       "day       inf           7464960000000000000000       86400000000   \n",
       "month     inf        6718464000000000000000000     2592000000000   \n",
       "year      inf      967458816000000000000000000    31104000000000   \n",
       "century   inf  9674588160000000000000000000000  3110400000000000   \n",
       "\n",
       "                       n log n              n^2            n^3        2^n  n!  \n",
       "second            87847.539578           1000.0          100.0  19.931569  10  \n",
       "minute          3950157.929487      7745.966692     391.486764  25.838459  12  \n",
       "hour          188909174.864924          60000.0    1532.618865   31.74535  13  \n",
       "day          3911758539.259124    293938.769134    4420.837798  36.330312  14  \n",
       "month      102245912509.155792     1609968.9438   13736.570911  41.237203  16  \n",
       "year      1121055084773.729492   5577096.018539   31448.896731  44.822165  17  \n",
       "century  96591730923945.734375  55770960.185387  145972.847894  51.466022  18  "
      ]
     },
     "metadata": {},
     "output_type": "display_data"
    }
   ],
   "source": [
    "'''\n",
    "! Get the Log(n) calculation working. Is it truely infinity, even for 1 seconds?\n",
    "! Understand why the df.plot.line is throwing an error. Matplotlib issue?\n",
    "\n",
    "'''\n",
    "import pandas as pd\n",
    "import numpy as np\n",
    "from scipy.special import lambertw\n",
    "import matplotlib.pyplot\n",
    "import math\n",
    "\n",
    "time_label = ['second','minute','hour','day','month','year','century']\n",
    "time_in_seconds = np.array([1,60,3600,86400,2592000,31104000,3110400000]) #Seconds\n",
    "time_in_microseconds = time_in_seconds * 1000000\n",
    "\n",
    "time_complexity = ['log n','sqrt n','n','n log n','n^2','n^3','2^n','n!']\n",
    "timeDF = pd.DataFrame(columns=time_complexity,index = time_label)\n",
    "\n",
    "def factorial_cap(num):\n",
    "    n = 1\n",
    "    i = 1\n",
    "    while n < num:\n",
    "        i += 1\n",
    "        n = n*i\n",
    "    return i\n",
    "\n",
    "for i in range(len(time_label)):\n",
    "    a = math.inf #2**getattr(time_in_microseconds[i], \"tolist\", lambda: time_in_microseconds[i])() # 2^s = n\n",
    "    b = getattr(time_in_microseconds[i], \"tolist\", lambda: time_in_microseconds[i])()**2\n",
    "    c = time_in_microseconds[i] \n",
    "    d = math.e**lambertw(time_in_microseconds[i]).real\n",
    "    e = time_in_microseconds[i]**(1/2)\n",
    "    f = time_in_microseconds[i]**(1/3)\n",
    "    g = math.log(time_in_microseconds[i])/math.log(2)\n",
    "    h = factorial_cap(time_in_microseconds[i])\n",
    "    timeDF.iloc[i] = [a,b,c,d,e,f,g,h]\n",
    "    \n",
    "display(timeDF)"
   ]
  },
  {
   "cell_type": "markdown",
   "metadata": {},
   "source": [
    "![Image] (https://en.wikipedia.org/wiki/Time_complexity#/media/File:Comparison_computational_complexity.svg)"
   ]
  },
  {
   "cell_type": "markdown",
   "metadata": {},
   "source": [
    "# Sorting Algorithms"
   ]
  },
  {
   "cell_type": "markdown",
   "metadata": {},
   "source": [
    "## Insert Sort"
   ]
  },
  {
   "cell_type": "code",
   "execution_count": 7,
   "metadata": {},
   "outputs": [],
   "source": [
    "def insert_sort(input_array):\n",
    "    for i in range(1,len(input_array)):\n",
    "        key = input_array[i]\n",
    "        j = i-1\n",
    "\n",
    "        while j >= 0 and input_array[j]>key:\n",
    "            #print(\"j: \",j)\n",
    "            #print(\"Inside While Loop: \", input_array)\n",
    "            input_array[j+1] = input_array[j]\n",
    "            j = j-1\n",
    "        input_array[j+1] = key\n",
    "    return input_array\n",
    "    #input_array"
   ]
  },
  {
   "cell_type": "code",
   "execution_count": 8,
   "metadata": {},
   "outputs": [
    {
     "name": "stdout",
     "output_type": "stream",
     "text": [
      "Insert Sort: All Tests Passed\n"
     ]
    }
   ],
   "source": [
    "lst1 = insert_sort([2,7,1,-8,9,4,78,6,-8,0,9])\n",
    "assert lst1 == [-8,-8,0,1,2,4,6,7,9,9,78], \"Insert Sort: Test 1 failed\"\n",
    "\n",
    "print('Insert Sort: All Tests Passed')"
   ]
  },
  {
   "cell_type": "markdown",
   "metadata": {},
   "source": [
    "## Merge Sort"
   ]
  },
  {
   "cell_type": "code",
   "execution_count": 2,
   "metadata": {},
   "outputs": [],
   "source": [
    "def merge_sort(arr):\n",
    "\n",
    "    if len(arr) >1:\n",
    "        left_arr = arr[:len(arr)//2]\n",
    "        right_arr = arr[len(arr)//2:]\n",
    "\n",
    "        \n",
    "        # recursion\n",
    "        merge_sort(left_arr)\n",
    "        merge_sort(right_arr)\n",
    "        \n",
    "\n",
    "        # merge\n",
    "        i = 0\n",
    "        j = 0\n",
    "        k = 0\n",
    "        while (i < len(left_arr)) and (j < len(right_arr)):\n",
    "            if left_arr[i] < right_arr[j]:\n",
    "                arr[k] = left_arr[i]\n",
    "                i += 1\n",
    "            else:\n",
    "                arr[k] = right_arr[j]\n",
    "                j += 1\n",
    "            k += 1\n",
    "        \n",
    "        while i < len(left_arr):\n",
    "            arr[k] = left_arr[i]\n",
    "            i += 1\n",
    "            k += 1\n",
    "        \n",
    "        while j < len(right_arr):\n",
    "            arr[k] = right_arr[j]\n",
    "            j += 1\n",
    "            k += 1\n",
    "        #print(\"Merged Array\", arr)\n",
    "            \n",
    "    return arr    \n",
    "            \n",
    "            "
   ]
  },
  {
   "cell_type": "code",
   "execution_count": 3,
   "metadata": {},
   "outputs": [
    {
     "name": "stdout",
     "output_type": "stream",
     "text": [
      "kWayMerge: All Tests Passed\n"
     ]
    }
   ],
   "source": [
    "lst1= merge_sort([2,7,1,-8,9,4,78,6,-8,0,9])\n",
    "assert lst1 == [-8,-8,0,1,2,4,6,7,9,9,78], \"Merge Sort: Test 1 failed\"\n",
    "\n",
    "print('Merge Sort: All Tests Passed')"
   ]
  },
  {
   "attachments": {},
   "cell_type": "markdown",
   "metadata": {},
   "source": [
    "## Merge Sorted List of Lists\n",
    "\n",
    "Takes a list of sorted lists (ascending order) and returns a single list sorted in ascending order"
   ]
  },
  {
   "cell_type": "code",
   "execution_count": 14,
   "metadata": {},
   "outputs": [],
   "source": [
    "def twoWayMerge(lst1, lst2):\n",
    "    \"\"\"Merges two lists in ascensing order\n",
    "\n",
    "    Args:\n",
    "        lst1 (list): list of numbers in ascending order\n",
    "        lst2 (list): list of numbers in ascending order\n",
    "\n",
    "    Returns:\n",
    "        list: merged list of numbers in ascending order\n",
    "    \"\"\"    \n",
    "    i = 0\n",
    "    j = 0\n",
    "    index = 0\n",
    "    arr = list(range(0,len(lst1)+len(lst2)))\n",
    "    \n",
    "    #Loop until one list is exhausted\n",
    "    while (i < len(lst1)) and (j < len(lst2)):\n",
    "        if lst1[i] < lst2[j]:\n",
    "            arr[index] = lst1[i]\n",
    "            i += 1\n",
    "            index += 1\n",
    "        else:\n",
    "            arr[index] = lst2[j]\n",
    "            j += 1\n",
    "            index += 1\n",
    "    \n",
    "    while i < len(lst1):\n",
    "        arr[index] = lst1[i]\n",
    "        i += 1\n",
    "        index += 1\n",
    "    \n",
    "    while j < len(lst2):\n",
    "        arr[index] = lst2[j]\n",
    "        j += 1\n",
    "        index += 1\n",
    "    return arr\n",
    "\n",
    "def oneStepKWayMerge(list_of_lists):\n",
    "    \"\"\"Merges a list of sorted lists two at a time. List length will decrease by ceiling(n/2) each time.\n",
    "       Each list in the returned will will be sorted in ascending order\n",
    "\n",
    "    Args:\n",
    "        list_of_lists (list): List of lists in ascending order. Example [[1,2,3],[0,6,7],[23],[2,67,78]]\n",
    "\n",
    "    Returns:\n",
    "        list: List of lists in ascending order. Example [[0,1,2,3,6,7],[2,23,67,78]]\n",
    "    \"\"\"    \n",
    "    if (len(list_of_lists) <= 1):\n",
    "        return list_of_lists\n",
    "    \n",
    "    return_list_of_lists = []\n",
    "    k = len(list_of_lists)\n",
    "    \n",
    "    #Step through two lists at a time and merge them, then appends them to the return list\n",
    "    for i in range(0,k,2):\n",
    "        if (i < k-1):\n",
    "            return_list_of_lists.append(twoWayMerge(list_of_lists[i],list_of_lists[i+1]))\n",
    "        else:\n",
    "            return_list_of_lists.append(list_of_lists[k-1])\n",
    "    return return_list_of_lists\n",
    "            \n",
    "def kWayMerge(list_of_lists):\n",
    "    \"\"\"Takes a list of sorted lists in ascending order and return a single sorted list\n",
    "\n",
    "    Args:\n",
    "        list_of_lists (list): List of lists in ascending order. Example [[1,2,3],[0,6,7],[23],[2,67,78]]\n",
    "\n",
    "    Returns:\n",
    "        list: List in ascending order. Example [0,1,2,2,3,6,7,23,67,78]\n",
    "    \"\"\"    \n",
    "    k = len(list_of_lists)\n",
    "    if k == 1:\n",
    "        return list_of_lists[0]\n",
    "    else:\n",
    "        new_list_of_lists = oneStepKWayMerge(list_of_lists)\n",
    "        return (kWayMerge(new_list_of_lists))"
   ]
  },
  {
   "cell_type": "code",
   "execution_count": 16,
   "metadata": {},
   "outputs": [
    {
     "name": "stdout",
     "output_type": "stream",
     "text": [
      "kWayMerge: All Tests Passed\n"
     ]
    }
   ],
   "source": [
    "lst1= kWayMerge([[1,2,3], [4,5,7],[-2,0,6],[5]])\n",
    "assert lst1 == [-2, 0, 1, 2, 3, 4, 5, 5, 6, 7], \"kWayMerge: Test 1 failed\"\n",
    "\n",
    "lst2 = kWayMerge([[-2, 4, 5 , 8], [0, 1, 2], [-1, 3,6,7]])\n",
    "assert lst2 == [-2, -1, 0, 1, 2, 3, 4, 5, 6, 7, 8], \"kWayMerge: Test 2 failed\"\n",
    "\n",
    "lst3 = kWayMerge([[-1, 1, 2, 3, 4, 5]])\n",
    "assert lst3 == [-1, 1, 2, 3, 4, 5], \"kWayMerge: Test 3 Failed\"\n",
    "\n",
    "print('kWayMerge: All Tests Passed')"
   ]
  },
  {
   "cell_type": "markdown",
   "metadata": {},
   "source": [
    "## Heapsort"
   ]
  },
  {
   "cell_type": "code",
   "execution_count": 28,
   "metadata": {},
   "outputs": [
    {
     "name": "stdout",
     "output_type": "stream",
     "text": [
      "[1, 4, 1, 4, 8, 1, 3, 5, 5, 9, 8, 6, 5, 6]\n",
      " 1\n",
      "-|-- 4\n",
      "-|---|-- 4\n",
      "-|---|---|-- 5\n",
      "-|---|---|-- 5\n",
      "-|---|-- 8\n",
      "-|---|---|-- 9\n",
      "-|---|---|-- 8\n",
      "-|-- 1\n",
      "-|---|-- 1\n",
      "-|---|---|-- 6\n",
      "-|---|---|-- 5\n",
      "-|---|-- 3\n",
      "-|---|---|-- 6\n"
     ]
    }
   ],
   "source": [
    "h = MinHeap([5,1,6,4,8,1,3,5,4,9,8,1,5,6])\n",
    "#print(h.graph())"
   ]
  },
  {
   "cell_type": "code",
   "execution_count": 42,
   "metadata": {},
   "outputs": [],
   "source": [
    "## WORK IN PROGRESS...\n",
    "class MinHeap:\n",
    "    import math\n",
    "    def __init__(self, A):\n",
    "        \"\"\"\n",
    "        Initialize a min heap\n",
    "\n",
    "        Args:\n",
    "            A (List): Unordered Array\n",
    "            \n",
    "        Return:\n",
    "            A (List): Ordered Array satisfying Min Heap properties\n",
    "        \"\"\"\n",
    "        self.minHeap = A\n",
    "        self.heapify()\n",
    "        print(self.minHeap)\n",
    "        self.graph()\n",
    "        \n",
    "    def __repr__(self):\n",
    "        return self.minHeap\n",
    "    \n",
    "    def graph(self,index = 0, level = 0):\n",
    "        if len(self.minHeap)==0:\n",
    "            return\n",
    "        \n",
    "        print(\"-|--\" * level, self.minHeap[index])\n",
    "        \n",
    "        if ((index+1)*2)+1 <= len(self.minHeap): #node has 2 children\n",
    "            self.graph((index*2)+1,level+1)\n",
    "            self.graph((index*2)+2,level+1)\n",
    "        elif (index+1)*2 == len(self.minHeap): #node has 1 child\n",
    "            self.graph((index*2)+1,level+1)\n",
    "\n",
    "        return None\n",
    "\n",
    "    def satisfies_assertions(self):\n",
    "        for i in range(1,len(self.minHeap)):\n",
    "            assert self.minHeap[i]>=self.minHeap[i//2]\n",
    "         \n",
    "    def heapify(self): ##\n",
    "        if len(self.minHeap)==0:\n",
    "            return\n",
    "        for i in range((len(self.minHeap)-2)//2,-1,-1):#Index backwards from the second from last layer to the root\n",
    "            self.bubble_down(i)\n",
    "        return\n",
    "    \n",
    "    def insert(self,num):\n",
    "        self.minHeap.append(num)\n",
    "        if len(self.minHeap)>1:\n",
    "            self.bubble_up(len(self.minHeap)-1)\n",
    "        \n",
    "    def sort(self):\n",
    "        sorted = list(range(len(self.minHeap)))\n",
    "        for i in range(len(self.minHeap)):\n",
    "            sorted[i] = self.minHeap[0]\n",
    "            self.delete(self,0)\n",
    "        return sorted\n",
    "        \n",
    "\n",
    "    def getMin(self):\n",
    "        return self.minHeap[0]\n",
    "    \n",
    "    def deleteMin(self):\n",
    "        self.delete(0)\n",
    "        \n",
    "    def delete(self, index):\n",
    "        self.minHeap[index] = self.minHeap[len(self.minHeap)-1]\n",
    "        self.minHeap.pop()\n",
    "        if len(self.minHeap)==0:\n",
    "            return\n",
    "        if self.minHeap[index]< self.minHeap[index//2]:\n",
    "            self.bubble_up(index)\n",
    "        else:\n",
    "            self.bubble_down(index)\n",
    "            \n",
    "    def bubble_up(self,j):\n",
    "        if j == 0:\n",
    "            return self.minHeap\n",
    "        else:\n",
    "            print('j',j)\n",
    "            if self.minHeap[j] < self.minHeap[(j-1)//2]:\n",
    "                tempVal = self.minHeap[j]\n",
    "                self.minHeap[j] = self.minHeap[(j-1)//2]\n",
    "                self.minHeap[(j-1)//2] = tempVal\n",
    "                return self.bubble_up((j-1)//2)\n",
    "                \n",
    "            else:\n",
    "                return(self.minHeap)\n",
    "    \n",
    "    def bubble_down(self,j): ##Working!!!\n",
    "        leftIndex = (j*2)+1\n",
    "        rightIndex = (j*2)+2\n",
    "        if leftIndex >= (len(self.minHeap)): #If the index doesn't have a child, can't bubble down further \n",
    "            return\n",
    "        else:\n",
    "            if leftIndex == len(self.minHeap)-1: ##Left child is end of array\n",
    "                if self.minHeap[leftIndex] < self.minHeap[j]:\n",
    "                    (self.minHeap[leftIndex], self.minHeap[j]) = (self.minHeap[j], self.minHeap[leftIndex])\n",
    "                    return\n",
    "                else:\n",
    "                    return\n",
    "            elif (self.minHeap[leftIndex] > self.minHeap[rightIndex]) and (self.minHeap[j]>self.minHeap[rightIndex]):\n",
    "                (self.minHeap[rightIndex],self.minHeap[j]) = (self.minHeap[j],self.minHeap[rightIndex])\n",
    "                return self.bubble_down(rightIndex)\n",
    "            elif self.minHeap[j]>self.minHeap[leftIndex]:\n",
    "                (self.minHeap[leftIndex],self.minHeap[j]) = (self.minHeap[j],self.minHeap[leftIndex])\n",
    "                return self.bubble_down(leftIndex)"
   ]
  },
  {
   "cell_type": "code",
   "execution_count": 43,
   "metadata": {},
   "outputs": [
    {
     "name": "stdout",
     "output_type": "stream",
     "text": [
      "[]\n",
      "Inserting: 5, 2, 4, -1 and 7 in that order.\n",
      "\t Heap = [5]\n",
      "j 1\n",
      "\t Heap = [2, 5]\n",
      "j 2\n",
      "\t Heap = [2, 5, 4]\n",
      "j 3\n",
      "j 1\n",
      "\t Heap = [-1, 2, 4, 5]\n",
      "j 4\n",
      "\t Heap = [-1, 2, 4, 5, 7]\n",
      "Deleting minimum element\n",
      "\t Heap = [2, 5, 4, 7]\n",
      "\t Heap = [4, 5, 7]\n",
      "\t Heap = [5, 7]\n",
      "\t Heap = [7]\n",
      "\t Heap = []\n",
      "All tests passed: 10 points!\n"
     ]
    }
   ],
   "source": [
    "h = MinHeap([])\n",
    "print('Inserting: 5, 2, 4, -1 and 7 in that order.')\n",
    "h.insert(5)\n",
    "print(f'\\t Heap = {h.minHeap}')\n",
    "assert(h.getMin() == 5)\n",
    "h.insert(2)\n",
    "print(f'\\t Heap = {h.minHeap}')\n",
    "assert(h.getMin() == 2)\n",
    "h.insert(4)\n",
    "print(f'\\t Heap = {h.minHeap}')\n",
    "assert(h.getMin() == 2)\n",
    "h.insert(-1)\n",
    "print(f'\\t Heap = {h.minHeap}')\n",
    "assert(h.getMin() == -1)\n",
    "h.insert(7)\n",
    "print(f'\\t Heap = {h.minHeap}')\n",
    "assert(h.getMin() == -1)\n",
    "h.satisfies_assertions()\n",
    "\n",
    "print('Deleting minimum element')\n",
    "h.deleteMin()\n",
    "print(f'\\t Heap = {h.minHeap}')\n",
    "assert(h.getMin() == 2)\n",
    "h.deleteMin()\n",
    "print(f'\\t Heap = {h.minHeap}')\n",
    "assert(h.getMin() == 4)\n",
    "h.deleteMin()\n",
    "print(f'\\t Heap = {h.minHeap}')\n",
    "assert(h.getMin() == 5)\n",
    "h.deleteMin()\n",
    "print(f'\\t Heap = {h.minHeap}')\n",
    "assert(h.getMin() == 7)\n",
    "# Test delete_max on heap of size 1, should result in empty heap.\n",
    "h.deleteMin()\n",
    "print(f'\\t Heap = {h.minHeap}')\n",
    "print('All tests passed: 10 points!')\n"
   ]
  },
  {
   "cell_type": "code",
   "execution_count": 35,
   "metadata": {},
   "outputs": [],
   "source": [
    "def bubble_up(A,j):\n",
    "    if j == 0:\n",
    "        return A\n",
    "    else:\n",
    "        if A[j] < A[(j-1)//2]:\n",
    "            tempVal = A[j]\n",
    "            A[j] = A[(j-1)//2]\n",
    "            A[(j-1)//2] = tempVal\n",
    "            return bubble_up(A,(j-1)//2)\n",
    "            \n",
    "        else:\n",
    "            return(A)\n",
    "\n",
    "\n",
    "def bubble_down(A,j):\n",
    "    if j > len(A)//2:\n",
    "        return A\n",
    "    else:\n",
    "        if (j*2)+2 == len(A): ##Left child is end of array\n",
    "            if A[(j*2)+1] < A[j]:\n",
    "                tempVal = A[(j*2)+1]\n",
    "                A[(j*2)+1] = A[j]\n",
    "                A[j] = tempVal\n",
    "                return A\n",
    "            else:\n",
    "                return A\n",
    "        elif A[(j*2)+1] > A[(j*2)+2]:\n",
    "            tempVal = A[(j*2)+2]\n",
    "            A[(j*2)+2] = A[j]\n",
    "            A[j] = tempVal\n",
    "            return bubble_down(A,(j*2)+2)\n",
    "        else:\n",
    "            tempVal = A[(j*2)+1]\n",
    "            A[(j*2)+1] = A[j]\n",
    "            A[j] = tempVal\n",
    "            return bubble_down(A,(j*2)+1)\n"
   ]
  },
  {
   "cell_type": "markdown",
   "metadata": {},
   "source": [
    "## Quicksort"
   ]
  },
  {
   "cell_type": "code",
   "execution_count": 5,
   "metadata": {},
   "outputs": [],
   "source": [
    "##Space for quicksort development"
   ]
  },
  {
   "cell_type": "markdown",
   "metadata": {},
   "source": [
    "# Search Algorithms"
   ]
  },
  {
   "cell_type": "markdown",
   "metadata": {},
   "source": [
    "## Binary Search (Non-recursive)"
   ]
  },
  {
   "cell_type": "code",
   "execution_count": 7,
   "metadata": {},
   "outputs": [
    {
     "name": "stdout",
     "output_type": "stream",
     "text": [
      "Search Array:  [ 1  3  9 12 13 14 17 18 22 23 25 25 30 30 33 36 37 42 46 46 51 54 58 58\n",
      " 58 61 64 64 68 69 73 75 79 82 87 90 94 94 96 99]\n",
      "Search Term:  87\n",
      "True\n"
     ]
    }
   ],
   "source": [
    "import numpy as np\n",
    "input_array = np.random.randint(0,100,40)\n",
    "input_array.sort()\n",
    "print(\"Search Array: \", input_array)\n",
    "search_term = np.random.randint(0,100)\n",
    "print(\"Search Term: \", search_term)\n",
    "\n",
    "left = 0\n",
    "right = len(input_array) - 1\n",
    "i = (right+left)//2\n",
    "exists = False\n",
    "\n",
    "while left<right:\n",
    "    if input_array[i] < search_term:\n",
    "        left = i+1\n",
    "    elif input_array[i] > search_term:\n",
    "        right = i-1\n",
    "    elif input_array[i] == search_term:\n",
    "        exists = True\n",
    "        left = right+1\n",
    "\n",
    "        \n",
    "    #print(left, right)\n",
    "    #print(i)\n",
    "    i = (right+left)//2\n",
    "print(exists)"
   ]
  },
  {
   "cell_type": "markdown",
   "metadata": {},
   "source": [
    "## Binary Search (Recursive)"
   ]
  },
  {
   "cell_type": "code",
   "execution_count": 17,
   "metadata": {},
   "outputs": [],
   "source": [
    "def binary_search(lst, ele, left, right):\n",
    "    \"\"\"Searches for element in a sorted ascending array\n",
    "\n",
    "    Args:\n",
    "        lst (list): Ascending order list of integers\n",
    "        ele (integer): Integer value that is being searched for\n",
    "        left (integer): Lower bound index of the search\n",
    "        right (integer): Upper bound index of the search\n",
    "\n",
    "    Returns:\n",
    "        bool: Returns boolean value of search results. True if list contains element, False if list doesn't contain element\n",
    "    \"\"\"    \n",
    "    if left>right:\n",
    "        return False\n",
    "    else:\n",
    "        mid = (left+right)//2\n",
    "        if lst[mid]>ele:\n",
    "            binary_search(lst, ele, left, mid-1)\n",
    "        elif lst[mid]<ele:\n",
    "            binary_search(lst, ele, mid+1, right)\n",
    "        else:\n",
    "            return True"
   ]
  },
  {
   "cell_type": "markdown",
   "metadata": {},
   "source": [
    "## Quickselect"
   ]
  },
  {
   "cell_type": "code",
   "execution_count": 70,
   "metadata": {},
   "outputs": [],
   "source": [
    "## Quickselect function\n",
    "def partition(A,k): #Working\n",
    "    \"\"\"Partitions the array into 2 regions, plus the location of a known element. The region to the left of j will be less than the element j, and the region to the right of j will be greater than the element j\n",
    "\n",
    "    Args:\n",
    "        A (list): Unsorted array\n",
    "        k (element): The pivot element of the unsorted array\n",
    "\n",
    "    Returns:\n",
    "        list: Partitioned list - [from 0 to j-1, these elements are less than the value of element j], [j], [from j+1 to n, these elements are greater than or equal to the value of element j]\n",
    "        int: final index of the pivot element\n",
    "    \"\"\"   \n",
    "    \n",
    "    if len(A)==1:\n",
    "        assert k == 0, \"The pivot index must be 0 of the array is length 1\"\n",
    "        return A,0 \n",
    "    i = -1\n",
    "    j = 0\n",
    "    pivotVal = A[k]\n",
    "    (A[len(A)-1],A[k]) = (A[k],A[len(A)-1])\n",
    "\n",
    "    \n",
    "    while j<len(A)-1:\n",
    "        if A[j]>=pivotVal:\n",
    "            j += 1\n",
    "        else:\n",
    "            (A[j],A[i+1]) = (A[i+1],A[j])\n",
    "            i += 1\n",
    "            j += 1\n",
    "            \n",
    "    (A[len(A)-1],A[i+1]) = (A[i+1],A[len(A)-1])\n",
    "    return A,i+1\n",
    "\n",
    "\n",
    "def quickSelect(A,k):\n",
    "    import random\n",
    "    \"\"\"An algorithm to search for and return the kth smallest element of an unsorted array\n",
    "\n",
    "    Args:\n",
    "        A (list): Unsorted list\n",
    "        k (int): This is the element of a sorted array that will be returned\n",
    "    \n",
    "    Return:\n",
    "        X (var): This is the value of the kth element of a sorted array (A)\n",
    "    \"\"\"\n",
    "    left = 0\n",
    "    right = len(A)-1\n",
    "    print(\"A:\",A)\n",
    "    print(left)\n",
    "    print(right)\n",
    "\n",
    "    assert k<len(A), \"Must select kth smallest value and k must be less than the length of an array\"\n",
    "    if left-right==0: #Array length 1 - only 1 element to return\n",
    "        return A[k]\n",
    "    j = random.randint(left,right) #Pivot Element\n",
    "    A, j = partition(A,j)\n",
    "    \n",
    "        \n",
    "    if j == k:\n",
    "        return A[j]\n",
    "\n",
    "    \n",
    "    elif j>k:\n",
    "        return quickSelect(A[0:j-1],k)\n",
    "    elif j<k:\n",
    "        return quickSelect(A[j+1:len(A)-1],k-j)\n",
    "    "
   ]
  },
  {
   "attachments": {},
   "cell_type": "markdown",
   "metadata": {},
   "source": [
    "# Tree Data Structures"
   ]
  },
  {
   "attachments": {},
   "cell_type": "markdown",
   "metadata": {},
   "source": [
    "## Binary Tree"
   ]
  },
  {
   "cell_type": "code",
   "execution_count": 1,
   "metadata": {},
   "outputs": [],
   "source": [
    "# Very similar to binary search"
   ]
  },
  {
   "attachments": {},
   "cell_type": "markdown",
   "metadata": {},
   "source": [
    "## Red-Black Tree"
   ]
  },
  {
   "cell_type": "code",
   "execution_count": null,
   "metadata": {},
   "outputs": [],
   "source": []
  },
  {
   "attachments": {},
   "cell_type": "markdown",
   "metadata": {},
   "source": [
    "## Skip Lists"
   ]
  },
  {
   "cell_type": "code",
   "execution_count": null,
   "metadata": {},
   "outputs": [],
   "source": []
  },
  {
   "cell_type": "markdown",
   "metadata": {},
   "source": [
    "# Console"
   ]
  },
  {
   "cell_type": "code",
   "execution_count": 4,
   "metadata": {},
   "outputs": [
    {
     "data": {
      "text/plain": [
       "3110400000"
      ]
     },
     "execution_count": 4,
     "metadata": {},
     "output_type": "execute_result"
    }
   ],
   "source": [
    "86400*30*12*100"
   ]
  },
  {
   "cell_type": "code",
   "execution_count": null,
   "metadata": {},
   "outputs": [],
   "source": []
  }
 ],
 "metadata": {
  "kernelspec": {
   "display_name": "Python 3",
   "language": "python",
   "name": "python3"
  },
  "language_info": {
   "codemirror_mode": {
    "name": "ipython",
    "version": 3
   },
   "file_extension": ".py",
   "mimetype": "text/x-python",
   "name": "python",
   "nbconvert_exporter": "python",
   "pygments_lexer": "ipython3",
   "version": "3.10.6"
  },
  "orig_nbformat": 4,
  "vscode": {
   "interpreter": {
    "hash": "b32566e95015a440fc6acab7058f9077ea370f764a027dd326e9ac58d10e10e2"
   }
  }
 },
 "nbformat": 4,
 "nbformat_minor": 2
}
