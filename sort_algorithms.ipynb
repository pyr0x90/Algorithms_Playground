{
 "cells": [
  {
   "cell_type": "markdown",
   "metadata": {},
   "source": [
    "# Complexity Visualization"
   ]
  },
  {
   "cell_type": "markdown",
   "metadata": {},
   "source": [
    "### Time Complexiity Visualization"
   ]
  },
  {
   "cell_type": "code",
   "execution_count": 1,
   "metadata": {},
   "outputs": [
    {
     "data": {
      "text/html": [
       "<div>\n",
       "<style scoped>\n",
       "    .dataframe tbody tr th:only-of-type {\n",
       "        vertical-align: middle;\n",
       "    }\n",
       "\n",
       "    .dataframe tbody tr th {\n",
       "        vertical-align: top;\n",
       "    }\n",
       "\n",
       "    .dataframe thead th {\n",
       "        text-align: right;\n",
       "    }\n",
       "</style>\n",
       "<table border=\"1\" class=\"dataframe\">\n",
       "  <thead>\n",
       "    <tr style=\"text-align: right;\">\n",
       "      <th></th>\n",
       "      <th>log n</th>\n",
       "      <th>sqrt n</th>\n",
       "      <th>n</th>\n",
       "      <th>n log n</th>\n",
       "      <th>n^2</th>\n",
       "      <th>n^3</th>\n",
       "      <th>2^n</th>\n",
       "      <th>n!</th>\n",
       "    </tr>\n",
       "  </thead>\n",
       "  <tbody>\n",
       "    <tr>\n",
       "      <th>second</th>\n",
       "      <td>0</td>\n",
       "      <td>1000000000000</td>\n",
       "      <td>1000000</td>\n",
       "      <td>11.383358</td>\n",
       "      <td>1000.0</td>\n",
       "      <td>100.0</td>\n",
       "      <td>500000.0</td>\n",
       "      <td>10</td>\n",
       "    </tr>\n",
       "    <tr>\n",
       "      <th>minute</th>\n",
       "      <td>0</td>\n",
       "      <td>3600000000000000</td>\n",
       "      <td>60000000</td>\n",
       "      <td>15.189266</td>\n",
       "      <td>7745.966692</td>\n",
       "      <td>391.486764</td>\n",
       "      <td>30000000.0</td>\n",
       "      <td>12</td>\n",
       "    </tr>\n",
       "    <tr>\n",
       "      <th>hour</th>\n",
       "      <td>0</td>\n",
       "      <td>12960000000000000000</td>\n",
       "      <td>3600000000</td>\n",
       "      <td>19.056777</td>\n",
       "      <td>60000.0</td>\n",
       "      <td>1532.618865</td>\n",
       "      <td>1800000000.0</td>\n",
       "      <td>13</td>\n",
       "    </tr>\n",
       "    <tr>\n",
       "      <th>day</th>\n",
       "      <td>0</td>\n",
       "      <td>7464960000000000000000</td>\n",
       "      <td>86400000000</td>\n",
       "      <td>22.087253</td>\n",
       "      <td>293938.769134</td>\n",
       "      <td>4420.837798</td>\n",
       "      <td>43200000000.0</td>\n",
       "      <td>14</td>\n",
       "    </tr>\n",
       "    <tr>\n",
       "      <th>month</th>\n",
       "      <td>0</td>\n",
       "      <td>6718464000000000000000000</td>\n",
       "      <td>2592000000000</td>\n",
       "      <td>25.350647</td>\n",
       "      <td>1609968.9438</td>\n",
       "      <td>13736.570911</td>\n",
       "      <td>1296000000000.0</td>\n",
       "      <td>16</td>\n",
       "    </tr>\n",
       "    <tr>\n",
       "      <th>year</th>\n",
       "      <td>0</td>\n",
       "      <td>967458816000000000000000000</td>\n",
       "      <td>31104000000000</td>\n",
       "      <td>27.745291</td>\n",
       "      <td>5577096.018539</td>\n",
       "      <td>31448.896731</td>\n",
       "      <td>15552000000000.0</td>\n",
       "      <td>17</td>\n",
       "    </tr>\n",
       "    <tr>\n",
       "      <th>century</th>\n",
       "      <td>0</td>\n",
       "      <td>9674588160000000000000000000000</td>\n",
       "      <td>3110400000000000</td>\n",
       "      <td>32.201514</td>\n",
       "      <td>55770960.185387</td>\n",
       "      <td>145972.847894</td>\n",
       "      <td>1555200000000000.0</td>\n",
       "      <td>18</td>\n",
       "    </tr>\n",
       "  </tbody>\n",
       "</table>\n",
       "</div>"
      ],
      "text/plain": [
       "        log n                           sqrt n                 n    n log n  \\\n",
       "second      0                    1000000000000           1000000  11.383358   \n",
       "minute      0                 3600000000000000          60000000  15.189266   \n",
       "hour        0             12960000000000000000        3600000000  19.056777   \n",
       "day         0           7464960000000000000000       86400000000  22.087253   \n",
       "month       0        6718464000000000000000000     2592000000000  25.350647   \n",
       "year        0      967458816000000000000000000    31104000000000  27.745291   \n",
       "century     0  9674588160000000000000000000000  3110400000000000  32.201514   \n",
       "\n",
       "                     n^2            n^3                 2^n  n!  \n",
       "second            1000.0          100.0            500000.0  10  \n",
       "minute       7745.966692     391.486764          30000000.0  12  \n",
       "hour             60000.0    1532.618865        1800000000.0  13  \n",
       "day        293938.769134    4420.837798       43200000000.0  14  \n",
       "month       1609968.9438   13736.570911     1296000000000.0  16  \n",
       "year      5577096.018539   31448.896731    15552000000000.0  17  \n",
       "century  55770960.185387  145972.847894  1555200000000000.0  18  "
      ]
     },
     "metadata": {},
     "output_type": "display_data"
    },
    {
     "ename": "AttributeError",
     "evalue": "'AxesSubplot' object has no attribute 'line'",
     "output_type": "error",
     "traceback": [
      "\u001b[1;31m---------------------------------------------------------------------------\u001b[0m",
      "\u001b[1;31mAttributeError\u001b[0m                            Traceback (most recent call last)",
      "\u001b[1;32mc:\\Users\\Megar\\Documents\\MSDS\\Algorithms\\sort_algorithms.ipynb Cell 3\u001b[0m in \u001b[0;36m<cell line: 35>\u001b[1;34m()\u001b[0m\n\u001b[0;32m     <a href='vscode-notebook-cell:/c%3A/Users/Megar/Documents/MSDS/Algorithms/sort_algorithms.ipynb#X11sZmlsZQ%3D%3D?line=31'>32</a>\u001b[0m     timeDF\u001b[39m.\u001b[39miloc[i] \u001b[39m=\u001b[39m [a,b,c,d,e,f,g,h]\n\u001b[0;32m     <a href='vscode-notebook-cell:/c%3A/Users/Megar/Documents/MSDS/Algorithms/sort_algorithms.ipynb#X11sZmlsZQ%3D%3D?line=33'>34</a>\u001b[0m display(timeDF)\n\u001b[1;32m---> <a href='vscode-notebook-cell:/c%3A/Users/Megar/Documents/MSDS/Algorithms/sort_algorithms.ipynb#X11sZmlsZQ%3D%3D?line=34'>35</a>\u001b[0m timeDF\u001b[39m.\u001b[39;49mplot(logy \u001b[39m=\u001b[39;49m \u001b[39mTrue\u001b[39;49;00m)\u001b[39m.\u001b[39;49mline(y\u001b[39m=\u001b[39mtime_complexity)\n",
      "\u001b[1;31mAttributeError\u001b[0m: 'AxesSubplot' object has no attribute 'line'"
     ]
    },
    {
     "data": {
      "image/png": "[encoded data removed]",
      "text/plain": [
       "<Figure size 640x480 with 1 Axes>"
      ]
     },
     "metadata": {},
     "output_type": "display_data"
    }
   ],
   "source": [
    "'''\n",
    "! Get the Log(n) calculation working. Is it truely infinity, even for 1 seconds?\n",
    "! Understand why the df.plot.line is throwing an error. Matplotlib issue?\n",
    "\n",
    "'''\n",
    "import pandas as pd\n",
    "import numpy as np\n",
    "from scipy.special import lambertw\n",
    "import matplotlib.pyplot\n",
    "import math\n",
    "\n",
    "time_label = ['second','minute','hour','day','month','year','century']\n",
    "time_in_seconds = np.array([1,60,3600,86400,2592000,31104000,3110400000]) #Seconds\n",
    "time_in_microseconds = time_in_seconds * 1000000\n",
    "\n",
    "time_complexity = ['log n','sqrt n','n','n log n','n^2','n^3','2^n','n!']\n",
    "timeDF = pd.DataFrame(columns=time_complexity,index = time_label)\n",
    "\n",
    "def factorial_cap(num):\n",
    "    n = 1\n",
    "    i = 1\n",
    "    while n < num:\n",
    "        i += 1\n",
    "        n = n*i\n",
    "    return i\n",
    "\n",
    "for i in range(len(time_label)):\n",
    "    a = 10**time_in_microseconds[i] # 10^s = n\n",
    "    #b = time_in_microseconds[i]**2\n",
    "    b = getattr(time_in_microseconds[i], \"tolist\", lambda: time_in_microseconds[i])()**2 #Issue with numpy.int64\n",
    "    c = time_in_microseconds[i] \n",
    "    d = lambertw(time_in_microseconds[i]).real #n*log(n) = x  ==> n = W(x)\n",
    "    e = time_in_microseconds[i]**(1/2)\n",
    "    f = time_in_microseconds[i]**(1/3)\n",
    "    g = time_in_microseconds[i]/2\n",
    "    h = factorial_cap(time_in_microseconds[i])\n",
    "    timeDF.iloc[i] = [a,b,c,d,e,f,g,h]\n",
    "    \n",
    "display(timeDF)\n",
    "timeDF.plot(logy = True).line(y=time_complexity)"
   ]
  },
  {
   "cell_type": "markdown",
   "metadata": {},
   "source": [
    "# Sorting Algorithms"
   ]
  },
  {
   "cell_type": "markdown",
   "metadata": {},
   "source": [
    "## Insert Sort"
   ]
  },
  {
   "cell_type": "code",
   "execution_count": 7,
   "metadata": {},
   "outputs": [
    {
     "name": "stdout",
     "output_type": "stream",
     "text": [
      "CPU times: total: 4.19 s\n",
      "Wall time: 4.21 s\n"
     ]
    }
   ],
   "source": [
    "%%time\n",
    "import numpy as np\n",
    "input_array = np.random.randint(0,100,10000)\n",
    "\n",
    "for i in range(1,len(input_array)):\n",
    "    key = input_array[i]\n",
    "    j = i-1\n",
    "\n",
    "    while j >= 0 and input_array[j]>key:\n",
    "        #print(\"j: \",j)\n",
    "        #print(\"Inside While Loop: \", input_array)\n",
    "        input_array[j+1] = input_array[j]\n",
    "        j = j-1\n",
    "    input_array[j+1] = key\n",
    "#input_array"
   ]
  },
  {
   "cell_type": "markdown",
   "metadata": {},
   "source": [
    "## Merge Sort"
   ]
  },
  {
   "cell_type": "code",
   "execution_count": 17,
   "metadata": {},
   "outputs": [],
   "source": [
    "def merge_sort(arr):\n",
    "    #print(\"Started Again\")\n",
    "    #print(arr)\n",
    "    if len(arr) >1:\n",
    "        left_arr = arr[:len(arr)//2]\n",
    "        right_arr = arr[len(arr)//2:]\n",
    "        #print('Left array: ', left_arr)\n",
    "        #print('Right array: ', right_arr)\n",
    "        \n",
    "        # recursion\n",
    "        merge_sort_YT(left_arr)\n",
    "        merge_sort_YT(right_arr)\n",
    "        \n",
    "        #print(\"!! MERGE\")\n",
    "        # merge\n",
    "        i = 0\n",
    "        j = 0\n",
    "        k = 0\n",
    "        while (i < len(left_arr)) and (j < len(right_arr)):\n",
    "            if left_arr[i] < right_arr[j]:\n",
    "                arr[k] = left_arr[i]\n",
    "                i += 1\n",
    "            else:\n",
    "                arr[k] = right_arr[j]\n",
    "                j += 1\n",
    "            k += 1\n",
    "        \n",
    "        while i < len(left_arr):\n",
    "            arr[k] = left_arr[i]\n",
    "            i += 1\n",
    "            k += 1\n",
    "        \n",
    "        while j < len(right_arr):\n",
    "            arr[k] = right_arr[j]\n",
    "            j += 1\n",
    "            k += 1\n",
    "        #print(\"Merged Array\", arr)\n",
    "            \n",
    "    return arr    \n",
    "            \n",
    "            "
   ]
  },
  {
   "cell_type": "markdown",
   "metadata": {},
   "source": [
    "# Search Algorithms"
   ]
  },
  {
   "cell_type": "markdown",
   "metadata": {},
   "source": [
    "## Binary Search (Non-recursive)"
   ]
  },
  {
   "cell_type": "code",
   "execution_count": 7,
   "metadata": {},
   "outputs": [
    {
     "name": "stdout",
     "output_type": "stream",
     "text": [
      "Search Array:  [ 1  3  9 12 13 14 17 18 22 23 25 25 30 30 33 36 37 42 46 46 51 54 58 58\n",
      " 58 61 64 64 68 69 73 75 79 82 87 90 94 94 96 99]\n",
      "Search Term:  87\n",
      "True\n"
     ]
    }
   ],
   "source": [
    "import numpy as np\n",
    "input_array = np.random.randint(0,100,40)\n",
    "input_array.sort()\n",
    "print(\"Search Array: \", input_array)\n",
    "search_term = np.random.randint(0,100)\n",
    "print(\"Search Term: \", search_term)\n",
    "\n",
    "left = 0\n",
    "right = len(input_array) - 1\n",
    "i = (right+left)//2\n",
    "exists = False\n",
    "\n",
    "while left<right:\n",
    "    if input_array[i] < search_term:\n",
    "        left = i+1\n",
    "    elif input_array[i] > search_term:\n",
    "        right = i-1\n",
    "    elif input_array[i] == search_term:\n",
    "        exists = True\n",
    "        left = right+1\n",
    "\n",
    "        \n",
    "    #print(left, right)\n",
    "    #print(i)\n",
    "    i = (right+left)//2\n",
    "print(exists)"
   ]
  },
  {
   "cell_type": "markdown",
   "metadata": {},
   "source": [
    "## Binary Search (Recursive)"
   ]
  },
  {
   "cell_type": "code",
   "execution_count": null,
   "metadata": {},
   "outputs": [],
   "source": [
    "def binary_search(lst, ele, left, right):\n",
    "    #Requirements:\n",
    "    #0 <= left <= right < length(list)\n",
    "    if left>right:\n",
    "        return False\n",
    "    else:\n",
    "        mid = (left+right)//2\n",
    "        if lst[mid]>ele:\n",
    "            binary_search(lst, ele, left, mid-1)\n",
    "        elif lst[mid]<ele:\n",
    "            binary_search(lst, ele, mid+1, right)\n",
    "        else:\n",
    "            return True"
   ]
  },
  {
   "cell_type": "markdown",
   "metadata": {},
   "source": [
    "# Console"
   ]
  },
  {
   "cell_type": "code",
   "execution_count": 4,
   "metadata": {},
   "outputs": [
    {
     "data": {
      "text/plain": [
       "3110400000"
      ]
     },
     "execution_count": 4,
     "metadata": {},
     "output_type": "execute_result"
    }
   ],
   "source": [
    "86400*30*12*100"
   ]
  },
  {
   "cell_type": "code",
   "execution_count": null,
   "metadata": {},
   "outputs": [],
   "source": []
  }
 ],
 "metadata": {
  "kernelspec": {
   "display_name": "Python 3.10.6 64-bit",
   "language": "python",
   "name": "python3"
  },
  "language_info": {
   "codemirror_mode": {
    "name": "ipython",
    "version": 3
   },
   "file_extension": ".py",
   "mimetype": "text/x-python",
   "name": "python",
   "nbconvert_exporter": "python",
   "pygments_lexer": "ipython3",
   "version": "3.10.6"
  },
  "orig_nbformat": 4,
  "vscode": {
   "interpreter": {
    "hash": "3bf78294dcbd8138d77a43764b82b891a734c4b51a00d7fc26df3d40ac7da73b"
   }
  }
 },
 "nbformat": 4,
 "nbformat_minor": 2
}
