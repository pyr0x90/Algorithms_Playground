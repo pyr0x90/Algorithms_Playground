{
 "cells": [
  {
   "cell_type": "markdown",
   "metadata": {},
   "source": [
    "# Complexity Visualization"
   ]
  },
  {
   "cell_type": "markdown",
   "metadata": {},
   "source": [
    "### Time Complexiity Visualization"
   ]
  },
  {
   "cell_type": "code",
   "execution_count": 4,
   "metadata": {},
   "outputs": [
    {
     "data": {
      "text/html": [
       "<div>\n",
       "<style scoped>\n",
       "    .dataframe tbody tr th:only-of-type {\n",
       "        vertical-align: middle;\n",
       "    }\n",
       "\n",
       "    .dataframe tbody tr th {\n",
       "        vertical-align: top;\n",
       "    }\n",
       "\n",
       "    .dataframe thead th {\n",
       "        text-align: right;\n",
       "    }\n",
       "</style>\n",
       "<table border=\"1\" class=\"dataframe\">\n",
       "  <thead>\n",
       "    <tr style=\"text-align: right;\">\n",
       "      <th></th>\n",
       "      <th>log n</th>\n",
       "      <th>sqrt n</th>\n",
       "      <th>n</th>\n",
       "      <th>n log n</th>\n",
       "      <th>n^2</th>\n",
       "      <th>n^3</th>\n",
       "      <th>2^n</th>\n",
       "      <th>n!</th>\n",
       "    </tr>\n",
       "  </thead>\n",
       "  <tbody>\n",
       "    <tr>\n",
       "      <th>second</th>\n",
       "      <td>inf</td>\n",
       "      <td>1000000000000</td>\n",
       "      <td>1000000</td>\n",
       "      <td>87847.539578</td>\n",
       "      <td>1000.0</td>\n",
       "      <td>100.0</td>\n",
       "      <td>19.931569</td>\n",
       "      <td>10</td>\n",
       "    </tr>\n",
       "    <tr>\n",
       "      <th>minute</th>\n",
       "      <td>inf</td>\n",
       "      <td>3600000000000000</td>\n",
       "      <td>60000000</td>\n",
       "      <td>3950157.929487</td>\n",
       "      <td>7745.966692</td>\n",
       "      <td>391.486764</td>\n",
       "      <td>25.838459</td>\n",
       "      <td>12</td>\n",
       "    </tr>\n",
       "    <tr>\n",
       "      <th>hour</th>\n",
       "      <td>inf</td>\n",
       "      <td>12960000000000000000</td>\n",
       "      <td>3600000000</td>\n",
       "      <td>188909174.864924</td>\n",
       "      <td>60000.0</td>\n",
       "      <td>1532.618865</td>\n",
       "      <td>31.74535</td>\n",
       "      <td>13</td>\n",
       "    </tr>\n",
       "    <tr>\n",
       "      <th>day</th>\n",
       "      <td>inf</td>\n",
       "      <td>7464960000000000000000</td>\n",
       "      <td>86400000000</td>\n",
       "      <td>3911758539.259124</td>\n",
       "      <td>293938.769134</td>\n",
       "      <td>4420.837798</td>\n",
       "      <td>36.330312</td>\n",
       "      <td>14</td>\n",
       "    </tr>\n",
       "    <tr>\n",
       "      <th>month</th>\n",
       "      <td>inf</td>\n",
       "      <td>6718464000000000000000000</td>\n",
       "      <td>2592000000000</td>\n",
       "      <td>102245912509.155792</td>\n",
       "      <td>1609968.9438</td>\n",
       "      <td>13736.570911</td>\n",
       "      <td>41.237203</td>\n",
       "      <td>16</td>\n",
       "    </tr>\n",
       "    <tr>\n",
       "      <th>year</th>\n",
       "      <td>inf</td>\n",
       "      <td>967458816000000000000000000</td>\n",
       "      <td>31104000000000</td>\n",
       "      <td>1121055084773.729492</td>\n",
       "      <td>5577096.018539</td>\n",
       "      <td>31448.896731</td>\n",
       "      <td>44.822165</td>\n",
       "      <td>17</td>\n",
       "    </tr>\n",
       "    <tr>\n",
       "      <th>century</th>\n",
       "      <td>inf</td>\n",
       "      <td>9674588160000000000000000000000</td>\n",
       "      <td>3110400000000000</td>\n",
       "      <td>96591730923945.734375</td>\n",
       "      <td>55770960.185387</td>\n",
       "      <td>145972.847894</td>\n",
       "      <td>51.466022</td>\n",
       "      <td>18</td>\n",
       "    </tr>\n",
       "  </tbody>\n",
       "</table>\n",
       "</div>"
      ],
      "text/plain": [
       "        log n                           sqrt n                 n  \\\n",
       "second    inf                    1000000000000           1000000   \n",
       "minute    inf                 3600000000000000          60000000   \n",
       "hour      inf             12960000000000000000        3600000000   \n",
       "day       inf           7464960000000000000000       86400000000   \n",
       "month     inf        6718464000000000000000000     2592000000000   \n",
       "year      inf      967458816000000000000000000    31104000000000   \n",
       "century   inf  9674588160000000000000000000000  3110400000000000   \n",
       "\n",
       "                       n log n              n^2            n^3        2^n  n!  \n",
       "second            87847.539578           1000.0          100.0  19.931569  10  \n",
       "minute          3950157.929487      7745.966692     391.486764  25.838459  12  \n",
       "hour          188909174.864924          60000.0    1532.618865   31.74535  13  \n",
       "day          3911758539.259124    293938.769134    4420.837798  36.330312  14  \n",
       "month      102245912509.155792     1609968.9438   13736.570911  41.237203  16  \n",
       "year      1121055084773.729492   5577096.018539   31448.896731  44.822165  17  \n",
       "century  96591730923945.734375  55770960.185387  145972.847894  51.466022  18  "
      ]
     },
     "metadata": {},
     "output_type": "display_data"
    }
   ],
   "source": [
    "'''\n",
    "! Get the Log(n) calculation working. Is it truely infinity, even for 1 seconds?\n",
    "! Understand why the df.plot.line is throwing an error. Matplotlib issue?\n",
    "\n",
    "'''\n",
    "import pandas as pd\n",
    "import numpy as np\n",
    "from scipy.special import lambertw\n",
    "import matplotlib.pyplot\n",
    "import math\n",
    "\n",
    "time_label = ['second','minute','hour','day','month','year','century']\n",
    "time_in_seconds = np.array([1,60,3600,86400,2592000,31104000,3110400000]) #Seconds\n",
    "time_in_microseconds = time_in_seconds * 1000000\n",
    "\n",
    "time_complexity = ['log n','sqrt n','n','n log n','n^2','n^3','2^n','n!']\n",
    "timeDF = pd.DataFrame(columns=time_complexity,index = time_label)\n",
    "\n",
    "def factorial_cap(num):\n",
    "    n = 1\n",
    "    i = 1\n",
    "    while n < num:\n",
    "        i += 1\n",
    "        n = n*i\n",
    "    return i\n",
    "\n",
    "for i in range(len(time_label)):\n",
    "    a = math.inf #2**getattr(time_in_microseconds[i], \"tolist\", lambda: time_in_microseconds[i])() # 2^s = n\n",
    "    b = getattr(time_in_microseconds[i], \"tolist\", lambda: time_in_microseconds[i])()**2\n",
    "    c = time_in_microseconds[i] \n",
    "    d = math.e**lambertw(time_in_microseconds[i]).real\n",
    "    e = time_in_microseconds[i]**(1/2)\n",
    "    f = time_in_microseconds[i]**(1/3)\n",
    "    g = math.log(time_in_microseconds[i])/math.log(2)\n",
    "    h = factorial_cap(time_in_microseconds[i])\n",
    "    timeDF.iloc[i] = [a,b,c,d,e,f,g,h]\n",
    "    \n",
    "display(timeDF)"
   ]
  },
  {
   "cell_type": "markdown",
   "metadata": {},
   "source": [
    "![Image] (https://en.wikipedia.org/wiki/Time_complexity#/media/File:Comparison_computational_complexity.svg)"
   ]
  },
  {
   "cell_type": "markdown",
   "metadata": {},
   "source": [
    "# Sorting Algorithms"
   ]
  },
  {
   "cell_type": "markdown",
   "metadata": {},
   "source": [
    "## Insert Sort"
   ]
  },
  {
   "cell_type": "code",
   "execution_count": 7,
   "metadata": {},
   "outputs": [
    {
     "name": "stdout",
     "output_type": "stream",
     "text": [
      "CPU times: total: 4.19 s\n",
      "Wall time: 4.21 s\n"
     ]
    }
   ],
   "source": [
    "%%time\n",
    "import numpy as np\n",
    "input_array = np.random.randint(0,100,10000)\n",
    "\n",
    "for i in range(1,len(input_array)):\n",
    "    key = input_array[i]\n",
    "    j = i-1\n",
    "\n",
    "    while j >= 0 and input_array[j]>key:\n",
    "        #print(\"j: \",j)\n",
    "        #print(\"Inside While Loop: \", input_array)\n",
    "        input_array[j+1] = input_array[j]\n",
    "        j = j-1\n",
    "    input_array[j+1] = key\n",
    "#input_array"
   ]
  },
  {
   "cell_type": "markdown",
   "metadata": {},
   "source": [
    "## Merge Sort"
   ]
  },
  {
   "cell_type": "code",
   "execution_count": 17,
   "metadata": {},
   "outputs": [],
   "source": [
    "def merge_sort(arr):\n",
    "    #print(\"Started Again\")\n",
    "    #print(arr)\n",
    "    if len(arr) >1:\n",
    "        left_arr = arr[:len(arr)//2]\n",
    "        right_arr = arr[len(arr)//2:]\n",
    "        #print('Left array: ', left_arr)\n",
    "        #print('Right array: ', right_arr)\n",
    "        \n",
    "        # recursion\n",
    "        merge_sort(left_arr)\n",
    "        merge_sort(right_arr)\n",
    "        \n",
    "        #print(\"!! MERGE\")\n",
    "        # merge\n",
    "        i = 0\n",
    "        j = 0\n",
    "        k = 0\n",
    "        while (i < len(left_arr)) and (j < len(right_arr)):\n",
    "            if left_arr[i] < right_arr[j]:\n",
    "                arr[k] = left_arr[i]\n",
    "                i += 1\n",
    "            else:\n",
    "                arr[k] = right_arr[j]\n",
    "                j += 1\n",
    "            k += 1\n",
    "        \n",
    "        while i < len(left_arr):\n",
    "            arr[k] = left_arr[i]\n",
    "            i += 1\n",
    "            k += 1\n",
    "        \n",
    "        while j < len(right_arr):\n",
    "            arr[k] = right_arr[j]\n",
    "            j += 1\n",
    "            k += 1\n",
    "        #print(\"Merged Array\", arr)\n",
    "            \n",
    "    return arr    \n",
    "            \n",
    "            "
   ]
  },
  {
   "cell_type": "markdown",
   "metadata": {},
   "source": [
    "## Heapsort"
   ]
  },
  {
   "cell_type": "code",
   "execution_count": 3,
   "metadata": {},
   "outputs": [],
   "source": [
    "## WORK IN PROGRESS...\n",
    "class min_heap:\n",
    "    def __init__(self, A):\n",
    "        \"\"\"\n",
    "        Initialize a min heap\n",
    "\n",
    "        Args:\n",
    "            A (List): Unordered Array\n",
    "            \n",
    "        Return:\n",
    "            A (List): Ordered Array satisfying Min Heap properties\n",
    "        \"\"\"\n",
    "        self.minHeap = self.heapify(A)\n",
    "        \n",
    "\n",
    "        \n",
    "    def heapify(self,minHeap): ##\n",
    "        for i in range((len(minHeap)-2)//2,-1,-1): #Index backwards from the second from last layer to the root\n",
    "            self.bubble_down(self.minHeap,i)\n",
    "        return \n",
    "        \n",
    "    def sort(self):\n",
    "        sorted = []\n",
    "        for i in range(len(A)):\n",
    "            sorted[i] = A[i]\n",
    "            self.delete(self,0)\n",
    "        \n",
    "    def insert(self,num):\n",
    "        self.minHeap.append(num)\n",
    "        self.bubble_up(self, len(self.minHeap))\n",
    "        \n",
    "    def getMin(self):\n",
    "        return self.minHeap[0]\n",
    "        \n",
    "    def delete(self, index):\n",
    "        self[index] = self[len(self)-1]\n",
    "        self.pop()\n",
    "        if self[index]< self[index//2]:\n",
    "            self.bubble_up(self,index)\n",
    "        else:\n",
    "            self.bubble_down(self,index)\n",
    "            \n",
    "    def bubble_up(self,A,j):\n",
    "        if j == 0:\n",
    "            return A\n",
    "        else:\n",
    "            if A[j] < A[(j-1)//2]:\n",
    "                tempVal = A[j]\n",
    "                A[j] = A[(j-1)//2]\n",
    "                A[(j-1)//2] = tempVal\n",
    "                return self.bubble_up(A,(j-1)//2)\n",
    "                \n",
    "            else:\n",
    "                return(A)\n",
    "    \n",
    "    def bubble_down(self,j):\n",
    "        leftIndex = (j*2)+1\n",
    "        rightIndex = (j*2)+2\n",
    "        if (j*2)+1 >= (len(self.minHeap)): #If the index doesn't have a child, can't bubble down further \n",
    "            return\n",
    "        else:\n",
    "            if (j*2)+1 == len(self.minHeap): ##Left child is end of array\n",
    "                if self.minHeap[leftIndex] < self.minHeap[j]:\n",
    "                    (self.minHeap[leftIndex], self.minHeap[j]) = (self.minHeap[j], self.minHeap[leftIndex])\n",
    "                    return\n",
    "                else:\n",
    "                    return\n",
    "            elif self.minHeap[(j*2)+1] > self.minHeap[(j*2)+2]:\n",
    "                self.minHeap\n",
    "                \n",
    "                \n",
    "                tempVal = A[(j*2)+2]\n",
    "                A[(j*2)+2] = A[j]\n",
    "                A[j] = tempVal\n",
    "                return self.bubble_down(A,(j*2)+2)\n",
    "            else:\n",
    "                tempVal = A[(j*2)+1]\n",
    "                A[(j*2)+1] = A[j]\n",
    "                A[j] = tempVal\n",
    "                return self.bubble_down(A,(j*2)+1)"
   ]
  },
  {
   "cell_type": "code",
   "execution_count": 4,
   "metadata": {},
   "outputs": [
    {
     "name": "stdout",
     "output_type": "stream",
     "text": [
      "[2, 1, 0]\n"
     ]
    }
   ],
   "source": [
    "print(list(range(2,-1,-1)))"
   ]
  },
  {
   "cell_type": "code",
   "execution_count": 12,
   "metadata": {},
   "outputs": [],
   "source": [
    "def bubble_up(A,j):\n",
    "    if j == 0:\n",
    "        return A\n",
    "    else:\n",
    "        if A[j] < A[(j-1)//2]:\n",
    "            tempVal = A[j]\n",
    "            A[j] = A[(j-1)//2]\n",
    "            A[(j-1)//2] = tempVal\n",
    "            return bubble_up(A,(j-1)//2)\n",
    "            \n",
    "        else:\n",
    "            return(A)\n",
    "\n",
    "\n",
    "def bubble_down(A,j):\n",
    "    if j > len(A)//2:\n",
    "        return A\n",
    "    else:\n",
    "        if (j*2)+2 == len(A): ##Left child is end of array\n",
    "            if A[(j*2)+1] < A[j]:\n",
    "                tempVal = A[(j*2)+1]\n",
    "                A[(j*2)+1] = A[j]\n",
    "                A[j] = tempVal\n",
    "                return A\n",
    "            else:\n",
    "                return A\n",
    "        elif A[(j*2)+1] > A[(j*2)+2]:\n",
    "            tempVal = A[(j*2)+2]\n",
    "            A[(j*2)+2] = A[j]\n",
    "            A[j] = tempVal\n",
    "            return bubble_down(A,(j*2)+2)\n",
    "        else:\n",
    "            tempVal = A[(j*2)+1]\n",
    "            A[(j*2)+1] = A[j]\n",
    "            A[j] = tempVal\n",
    "            return bubble_down(A,(j*2)+1)\n"
   ]
  },
  {
   "cell_type": "markdown",
   "metadata": {},
   "source": [
    "## Quicksort"
   ]
  },
  {
   "cell_type": "code",
   "execution_count": 5,
   "metadata": {},
   "outputs": [],
   "source": [
    "##Space for quicksort development"
   ]
  },
  {
   "cell_type": "markdown",
   "metadata": {},
   "source": [
    "# Search Algorithms"
   ]
  },
  {
   "cell_type": "markdown",
   "metadata": {},
   "source": [
    "## Binary Search (Non-recursive)"
   ]
  },
  {
   "cell_type": "code",
   "execution_count": 7,
   "metadata": {},
   "outputs": [
    {
     "name": "stdout",
     "output_type": "stream",
     "text": [
      "Search Array:  [ 1  3  9 12 13 14 17 18 22 23 25 25 30 30 33 36 37 42 46 46 51 54 58 58\n",
      " 58 61 64 64 68 69 73 75 79 82 87 90 94 94 96 99]\n",
      "Search Term:  87\n",
      "True\n"
     ]
    }
   ],
   "source": [
    "import numpy as np\n",
    "input_array = np.random.randint(0,100,40)\n",
    "input_array.sort()\n",
    "print(\"Search Array: \", input_array)\n",
    "search_term = np.random.randint(0,100)\n",
    "print(\"Search Term: \", search_term)\n",
    "\n",
    "left = 0\n",
    "right = len(input_array) - 1\n",
    "i = (right+left)//2\n",
    "exists = False\n",
    "\n",
    "while left<right:\n",
    "    if input_array[i] < search_term:\n",
    "        left = i+1\n",
    "    elif input_array[i] > search_term:\n",
    "        right = i-1\n",
    "    elif input_array[i] == search_term:\n",
    "        exists = True\n",
    "        left = right+1\n",
    "\n",
    "        \n",
    "    #print(left, right)\n",
    "    #print(i)\n",
    "    i = (right+left)//2\n",
    "print(exists)"
   ]
  },
  {
   "cell_type": "markdown",
   "metadata": {},
   "source": [
    "## Binary Search (Recursive)"
   ]
  },
  {
   "cell_type": "code",
   "execution_count": null,
   "metadata": {},
   "outputs": [],
   "source": [
    "def binary_search(lst, ele, left, right):\n",
    "    #Requirements:\n",
    "    #0 <= left <= right < length(list)\n",
    "    if left>right:\n",
    "        return False\n",
    "    else:\n",
    "        mid = (left+right)//2\n",
    "        if lst[mid]>ele:\n",
    "            binary_search(lst, ele, left, mid-1)\n",
    "        elif lst[mid]<ele:\n",
    "            binary_search(lst, ele, mid+1, right)\n",
    "        else:\n",
    "            return True"
   ]
  },
  {
   "cell_type": "markdown",
   "metadata": {},
   "source": [
    "# Console"
   ]
  },
  {
   "cell_type": "code",
   "execution_count": 4,
   "metadata": {},
   "outputs": [
    {
     "data": {
      "text/plain": [
       "3110400000"
      ]
     },
     "execution_count": 4,
     "metadata": {},
     "output_type": "execute_result"
    }
   ],
   "source": [
    "86400*30*12*100"
   ]
  },
  {
   "cell_type": "code",
   "execution_count": null,
   "metadata": {},
   "outputs": [],
   "source": []
  }
 ],
 "metadata": {
  "kernelspec": {
   "display_name": "Python 3.10.6 64-bit",
   "language": "python",
   "name": "python3"
  },
  "language_info": {
   "codemirror_mode": {
    "name": "ipython",
    "version": 3
   },
   "file_extension": ".py",
   "mimetype": "text/x-python",
   "name": "python",
   "nbconvert_exporter": "python",
   "pygments_lexer": "ipython3",
   "version": "3.10.6"
  },
  "orig_nbformat": 4,
  "vscode": {
   "interpreter": {
    "hash": "3bf78294dcbd8138d77a43764b82b891a734c4b51a00d7fc26df3d40ac7da73b"
   }
  }
 },
 "nbformat": 4,
 "nbformat_minor": 2
}
